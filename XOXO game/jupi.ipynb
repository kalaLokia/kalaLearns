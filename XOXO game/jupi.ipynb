{
 "nbformat": 4,
 "nbformat_minor": 2,
 "metadata": {
  "language_info": {
   "name": "python",
   "codemirror_mode": {
    "name": "ipython",
    "version": 3
   },
   "version": "3.8.1-final"
  },
  "orig_nbformat": 2,
  "file_extension": ".py",
  "mimetype": "text/x-python",
  "name": "python",
  "npconvert_exporter": "python",
  "pygments_lexer": "ipython3",
  "version": 3,
  "kernelspec": {
   "name": "python38132bit0c42336cd8b84cfe99ce51673ad52476",
   "display_name": "Python 3.8.1 32-bit"
  }
 },
 "cells": [
  {
   "cell_type": "code",
   "execution_count": 13,
   "metadata": {},
   "outputs": [],
   "source": [
    "# Neccessary imports for the project\n",
    "from IPython.display import clear_output\n",
    "from random import randint\n",
    ""
   ]
  },
  {
   "cell_type": "code",
   "execution_count": 14,
   "metadata": {},
   "outputs": [],
   "source": [
    "# Initializers for global variables\n",
    "board_elements = [' ',' ',' ',' ',' ',' ',' ',' ',' ']"
   ]
  },
  {
   "cell_type": "code",
   "execution_count": 15,
   "metadata": {},
   "outputs": [],
   "source": [
    "def board(elements):\n",
    "    '''\n",
    "    Function to display the board view of the game.\n",
    "    '''\n",
    "    print('------------------------')\n",
    "    print(f'   {elements[6]}   |   {elements[7]}   |   {elements[8]}   ')\n",
    "    print('------------------------')\n",
    "    print(f'   {elements[3]}   |   {elements[4]}   |   {elements[5]}   ')\n",
    "    print('------------------------')\n",
    "    print(f'   {elements[0]}   |   {elements[1]}   |   {elements[2]}   ')\n",
    "    print('------------------------')\n",
    ""
   ]
  },
  {
   "cell_type": "code",
   "execution_count": 17,
   "metadata": {},
   "outputs": [],
   "source": [
    "def checkWinner():\n",
    "    '''\n",
    "    Function to check for a winner\n",
    "    Winning sequences : 123,456,789,147,258,369,159,753\n",
    "    '''\n",
    "    if(len(set(board_elements[0:3]))==1):\n",
    "        return board_elements[0]\n",
    "    elif(len(set(board_elements[3:6]))==1):\n",
    "        return board_elements[3]\n",
    "    elif(len(set(board_elements[6:9]))==1):\n",
    "        return board_elements[6]\n",
    "    elif(len(set(board_elements[0::3]))==1):\n",
    "        return board_elements[0]\n",
    "    elif(len(set(board_elements[1::3]))==1):\n",
    "        return board_elements[1]\n",
    "    elif(len(set(board_elements[2::3]))==1):\n",
    "        return board_elements[2]\n",
    "    elif(len(set(board_elements[2::2]))==1):\n",
    "        return board_elements[2]\n",
    "    elif(len(set(board_elements[0:4]))==1):\n",
    "        return board_elements[0]\n",
    "    else:\n",
    "        return 0"
   ]
  },
  {
   "cell_type": "code",
   "execution_count": 18,
   "metadata": {},
   "outputs": [],
   "source": [
    "def firstUser():\n",
    "    '''\n",
    "    Function to ask the user to choose either X or O\n",
    "    Returns either X or O\n",
    "    '''\n",
    "    value = input('Choose who are you, X or O : ').upper()\n",
    "    if(value in ['X','O']):\n",
    "        return value\n",
    "    else:\n",
    "        print(\"That was a invalid entry, we choose 'X' for you.\")\n",
    "        return 'X'"
   ]
  },
  {
   "cell_type": "code",
   "execution_count": 19,
   "metadata": {},
   "outputs": [],
   "source": [
    "def startGame():\n",
    "    '''\n",
    "    Function to begin the game\n",
    "    '''\n",
    "    position = []\n",
    "\n",
    "    user1 = firstUser()\n",
    "    user2 = 'O' if(user1 == 'X') else 'X'\n",
    "\n",
    "    print(f'User 1 : {user1}\\nUser 2 : {user2}')\n",
    "\n",
    "\n",
    "    print('Board Display:')\n",
    "    board([1,2,3,4,5,6,7,8,9])\n",
    "\n",
    "    if(randint(0,100) % 2 == 0):\n",
    "        order = ['X','O','X','O','X','O','X','O','X']\n",
    "        print('X has the first move')\n",
    "    else:\n",
    "        order = ['O','X','O','X','O','X','O','X','O']\n",
    "        print('O has the first move')\n",
    "\n",
    "    # Game begins in here\n",
    "    for move in range(1,10):\n",
    "        value = order.pop()\n",
    "        try:\n",
    "            entry = int(input(f'{value} choose your postion: '))-1\n",
    "        except ValueError:\n",
    "            print('Not a number')\n",
    "            move = move - 1\n",
    "            order.append(value)\n",
    "            break\n",
    "        if(entry == -1):\n",
    "            print(f'{value} has left the game')\n",
    "            position = []\n",
    "            continue\n",
    "        while entry in position:\n",
    "            try:\n",
    "                entry = int(input(f'{value} choose a postion that is not entered: '))-1\n",
    "            except ValueError:\n",
    "                print('Not a number')\n",
    "                \n",
    "        position.append(entry)\n",
    "        board_elements[entry] = value\n",
    "        clear_output()\n",
    "        board(board_elements)\n",
    "        if(checkWinner()=='X'):\n",
    "            print('X HAS WON THE GAME.')\n",
    "            break\n",
    "        elif(checkWinner() == 'O'):\n",
    "            print('O HAS WON THE GAME.')\n",
    "            break\n",
    "\n",
    "    position = []\n",
    "    print('End of game')"
   ]
  },
  {
   "cell_type": "code",
   "execution_count": 20,
   "metadata": {},
   "outputs": [
    {
     "output_type": "stream",
     "name": "stdout",
     "text": "------------------------\n       |       |   X   \n------------------------\n   X   |   O   |   O   \n------------------------\n   O   |       |       \n------------------------\n"
    },
    {
     "output_type": "error",
     "ename": "IndexError",
     "evalue": "list assignment index out of range",
     "traceback": [
      "\u001b[1;31m---------------------------------------------------------------------------\u001b[0m",
      "\u001b[1;31mIndexError\u001b[0m                                Traceback (most recent call last)",
      "\u001b[1;32m<ipython-input-20-50d562b18caf>\u001b[0m in \u001b[0;36m<module>\u001b[1;34m\u001b[0m\n\u001b[0;32m      2\u001b[0m \u001b[0mready\u001b[0m \u001b[1;33m=\u001b[0m \u001b[1;32mTrue\u001b[0m\u001b[1;33m\u001b[0m\u001b[1;33m\u001b[0m\u001b[0m\n\u001b[0;32m      3\u001b[0m \u001b[1;32mwhile\u001b[0m\u001b[1;33m(\u001b[0m\u001b[0mready\u001b[0m\u001b[1;33m)\u001b[0m\u001b[1;33m:\u001b[0m\u001b[1;33m\u001b[0m\u001b[1;33m\u001b[0m\u001b[0m\n\u001b[1;32m----> 4\u001b[1;33m     \u001b[0mstartGame\u001b[0m\u001b[1;33m(\u001b[0m\u001b[1;33m)\u001b[0m\u001b[1;33m\u001b[0m\u001b[1;33m\u001b[0m\u001b[0m\n\u001b[0m\u001b[0;32m      5\u001b[0m     \u001b[1;32mif\u001b[0m\u001b[1;33m(\u001b[0m\u001b[0minput\u001b[0m\u001b[1;33m(\u001b[0m\u001b[1;34m'Do you want to play again (Y/n): '\u001b[0m\u001b[1;33m)\u001b[0m\u001b[1;33m.\u001b[0m\u001b[0mlower\u001b[0m \u001b[1;33m!=\u001b[0m \u001b[1;34m'y'\u001b[0m\u001b[1;33m)\u001b[0m\u001b[1;33m:\u001b[0m\u001b[1;33m\u001b[0m\u001b[1;33m\u001b[0m\u001b[0m\n\u001b[0;32m      6\u001b[0m         \u001b[0mready\u001b[0m \u001b[1;33m=\u001b[0m \u001b[1;32mFalse\u001b[0m\u001b[1;33m\u001b[0m\u001b[1;33m\u001b[0m\u001b[0m\n",
      "\u001b[1;32m<ipython-input-19-3690d63f5317>\u001b[0m in \u001b[0;36mstartGame\u001b[1;34m()\u001b[0m\n\u001b[0;32m     38\u001b[0m                 \u001b[0mprint\u001b[0m\u001b[1;33m(\u001b[0m\u001b[1;34m'Not a number'\u001b[0m\u001b[1;33m)\u001b[0m\u001b[1;33m\u001b[0m\u001b[1;33m\u001b[0m\u001b[0m\n\u001b[0;32m     39\u001b[0m         \u001b[0mposition\u001b[0m\u001b[1;33m.\u001b[0m\u001b[0mappend\u001b[0m\u001b[1;33m(\u001b[0m\u001b[0mentry\u001b[0m\u001b[1;33m)\u001b[0m\u001b[1;33m\u001b[0m\u001b[1;33m\u001b[0m\u001b[0m\n\u001b[1;32m---> 40\u001b[1;33m         \u001b[0mboard_elements\u001b[0m\u001b[1;33m[\u001b[0m\u001b[0mentry\u001b[0m\u001b[1;33m]\u001b[0m \u001b[1;33m=\u001b[0m \u001b[0mvalue\u001b[0m\u001b[1;33m\u001b[0m\u001b[1;33m\u001b[0m\u001b[0m\n\u001b[0m\u001b[0;32m     41\u001b[0m         \u001b[0mclear_output\u001b[0m\u001b[1;33m(\u001b[0m\u001b[1;33m)\u001b[0m\u001b[1;33m\u001b[0m\u001b[1;33m\u001b[0m\u001b[0m\n\u001b[0;32m     42\u001b[0m         \u001b[0mboard\u001b[0m\u001b[1;33m(\u001b[0m\u001b[0mboard_elements\u001b[0m\u001b[1;33m)\u001b[0m\u001b[1;33m\u001b[0m\u001b[1;33m\u001b[0m\u001b[0m\n",
      "\u001b[1;31mIndexError\u001b[0m: list assignment index out of range"
     ]
    }
   ],
   "source": [
    "#Program main execution from here\n",
    "ready = True\n",
    "while(ready):\n",
    "    startGame()\n",
    "    if(input('Do you want to play again (Y/n): ').lower != 'y'):\n",
    "        ready = False\n",
    "        print('Game End!')"
   ]
  },
  {
   "cell_type": "code",
   "execution_count": null,
   "metadata": {},
   "outputs": [],
   "source": []
  }
 ]
}