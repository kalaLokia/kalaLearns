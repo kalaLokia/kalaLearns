{
 "nbformat": 4,
 "nbformat_minor": 2,
 "metadata": {
  "language_info": {
   "name": "python",
   "codemirror_mode": {
    "name": "ipython",
    "version": 3
   },
   "version": "3.8.1-final"
  },
  "orig_nbformat": 2,
  "file_extension": ".py",
  "mimetype": "text/x-python",
  "name": "python",
  "npconvert_exporter": "python",
  "pygments_lexer": "ipython3",
  "version": 3,
  "kernelspec": {
   "name": "python38132bit0c42336cd8b84cfe99ce51673ad52476",
   "display_name": "Python 3.8.1 32-bit"
  }
 },
 "cells": [
  {
   "cell_type": "code",
   "execution_count": 11,
   "metadata": {},
   "outputs": [],
   "source": [
    "# Neccessary imports for the project\n",
    "from IPython.display import clear_output\n",
    "from random import randint"
   ]
  },
  {
   "cell_type": "code",
   "execution_count": 12,
   "metadata": {},
   "outputs": [],
   "source": [
    "def firstUser():\n",
    "    '''\n",
    "    Function to ask the user to choose either X or O\n",
    "    Returns either X or O\n",
    "    '''\n",
    "    value = input('Choose who are you, X or O : ').upper()\n",
    "    if(value in ['X','O']):\n",
    "        return value\n",
    "    else:\n",
    "        print(\"That was a invalid entry, we choose 'X' for you.\")\n",
    "        return 'X'"
   ]
  },
  {
   "cell_type": "code",
   "execution_count": 13,
   "metadata": {},
   "outputs": [],
   "source": [
    "def board(elements):\n",
    "    '''\n",
    "    Function to display the board view of the game.\n",
    "    '''\n",
    "    print('------------------------')\n",
    "    print(f'   {elements[6]}   |   {elements[7]}   |   {elements[8]}   ')\n",
    "    print('------------------------')\n",
    "    print(f'   {elements[3]}   |   {elements[4]}   |   {elements[5]}   ')\n",
    "    print('------------------------')\n",
    "    print(f'   {elements[0]}   |   {elements[1]}   |   {elements[2]}   ')\n",
    "    print('------------------------')\n",
    ""
   ]
  },
  {
   "cell_type": "code",
   "execution_count": 14,
   "metadata": {},
   "outputs": [],
   "source": [
    "def secondUser():\n",
    "    '''\n",
    "    Function that choose second user letter based on first user\n",
    "    Returns either X or O\n",
    "    '''\n",
    "    if(user1=='X'):\n",
    "       return 'O'\n",
    "    elif(user1=='O'):\n",
    "        return 'X' "
   ]
  },
  {
   "cell_type": "code",
   "execution_count": 15,
   "metadata": {},
   "outputs": [],
   "source": [
    "\n",
    "def firstPerson():\n",
    "    return randint(0,100) % 2 == 0"
   ]
  },
  {
   "cell_type": "code",
   "execution_count": 16,
   "metadata": {},
   "outputs": [
    {
     "output_type": "stream",
     "name": "stdout",
     "text": "X has the first move\n"
    }
   ],
   "source": [
    "\n",
    "if(firstPerson()):\n",
    "    order = ['X','O','X','O','X','O','X','O','X']\n",
    "    print('X has the first move')\n",
    "else:\n",
    "    order = ['O','X','O','X','O','X','O','X','O']\n",
    "    print('O has the first move')\n",
    ""
   ]
  },
  {
   "cell_type": "code",
   "execution_count": 17,
   "metadata": {},
   "outputs": [],
   "source": [
    "\n",
    "def checkWinner():\n",
    "    '''\n",
    "    Function to check for a winner\n",
    "    Winning sequences : 123,456,789,147,258,369,159,753\n",
    "    '''\n",
    "    if(len(set(board_elements[0:3]))==1):\n",
    "        return board_elements[0]\n",
    "    elif(len(set(board_elements[3:6]))==1):\n",
    "        return board_elements[3]\n",
    "    elif(len(set(board_elements[6:9]))==1):\n",
    "        return board_elements[6]\n",
    "    elif(len(set(board_elements[0::3]))==1):\n",
    "        return board_elements[0]\n",
    "    elif(len(set(board_elements[1::3]))==1):\n",
    "        return board_elements[1]\n",
    "    elif(len(set(board_elements[2::3]))==1):\n",
    "        return board_elements[2]\n",
    "    elif(len(set(board_elements[2::2]))==1):\n",
    "        return board_elements[2]\n",
    "    elif(len(set(board_elements[0:4]))==1):\n",
    "        return board_elements[0]\n",
    "    else:\n",
    "        return 0\n",
    ""
   ]
  },
  {
   "cell_type": "code",
   "execution_count": 18,
   "metadata": {},
   "outputs": [],
   "source": [
    "def startGame():\n",
    "    '''\n",
    "    Function to begin the game\n",
    "    '''\n",
    "    global position\n",
    "    for move in range(1,10):\n",
    "        value = order.pop()\n",
    "        try:\n",
    "            entry = int(input(f'{value} choose your postion: '))-1\n",
    "        except ValueError:\n",
    "            print('Not a number')\n",
    "        if(entry == -1):\n",
    "            print(f'{value} has left the game')\n",
    "            position = []\n",
    "            break\n",
    "        while entry in position:\n",
    "            try:\n",
    "                entry = int(input(f'{value} choose a postion that is not entered: '))-1\n",
    "            except ValueError:\n",
    "                print('Not a number')\n",
    "        position.append(entry)\n",
    "        board_elements[entry] = value\n",
    "        clear_output()\n",
    "        board(board_elements)\n",
    "        if(checkWinner()=='X'):\n",
    "            print('X HAS WON THE GAME.')\n",
    "            break\n",
    "        elif(checkWinner() == 'O'):\n",
    "            print('O HAS WON THE GAME.')\n",
    "            break\n",
    "\n",
    "    position = []\n",
    "    print('End of game')\n",
    "\n",
    "        "
   ]
  },
  {
   "cell_type": "code",
   "execution_count": 19,
   "metadata": {},
   "outputs": [],
   "source": [
    "# Initializers for global variables\n",
    "board_elements = [' ',' ',' ',' ',' ',' ',' ',' ',' ']\n",
    "position = []"
   ]
  },
  {
   "cell_type": "code",
   "execution_count": 20,
   "metadata": {},
   "outputs": [
    {
     "output_type": "stream",
     "name": "stdout",
     "text": "User 1 : O\nUser 2 : X\nBoard Display:\n------------------------\n   7   |   8   |   9   \n------------------------\n   4   |   5   |   6   \n------------------------\n   1   |   2   |   3   \n------------------------\n"
    }
   ],
   "source": [
    "user1 = firstUser()\n",
    "user2 = secondUser()\n",
    "print(f'User 1 : {user1}\\nUser 2 : {user2}')\n",
    "print('Board Display:')\n",
    "board([1,2,3,4,5,6,7,8,9])"
   ]
  },
  {
   "cell_type": "code",
   "execution_count": 21,
   "metadata": {},
   "outputs": [
    {
     "output_type": "stream",
     "name": "stdout",
     "text": "------------------------\n   O   |   X   |       \n------------------------\n       |   X   |       \n------------------------\n   O   |   X   |       \n------------------------\nX HAS WON THE GAME.\nEnd of game\n"
    }
   ],
   "source": [
    "startGame()"
   ]
  },
  {
   "cell_type": "code",
   "execution_count": null,
   "metadata": {},
   "outputs": [],
   "source": []
  }
 ]
}